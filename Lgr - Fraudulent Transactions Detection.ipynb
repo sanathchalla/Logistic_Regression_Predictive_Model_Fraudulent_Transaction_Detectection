{
 "cells": [
  {
   "cell_type": "markdown",
   "id": "0d9aa87b",
   "metadata": {},
   "source": [
    "# Building a Predictive Model using Logistic Regression to Detect Fraudulent Transactions. "
   ]
  },
  {
   "cell_type": "code",
   "execution_count": 1,
   "id": "0fa50356",
   "metadata": {},
   "outputs": [],
   "source": [
    "import pandas as pd\n",
    "import numpy as np"
   ]
  },
  {
   "cell_type": "markdown",
   "id": "a5e13d0e",
   "metadata": {},
   "source": [
    "## Importing Data downloaded from Kaggle - source(https://www.kaggle.com/ealaxi/paysim1)"
   ]
  },
  {
   "cell_type": "code",
   "execution_count": 5,
   "id": "1a4a1f1b",
   "metadata": {},
   "outputs": [],
   "source": [
    "transactions = pd.read_csv(r\"C:\\Users\\SANATH\\OneDrive\\Desktop\\Datasets\\PS_20174392719_1491204439457_log.csv\")"
   ]
  },
  {
   "cell_type": "code",
   "execution_count": 17,
   "id": "aa795da2",
   "metadata": {},
   "outputs": [
    {
     "name": "stdout",
     "output_type": "stream",
     "text": [
      "   step      type    amount     nameOrig  oldbalanceOrg  newbalanceOrig  \\\n",
      "0     1   PAYMENT   9839.64  C1231006815      170136.00       160296.36   \n",
      "1     1   PAYMENT   1864.28  C1666544295       21249.00        19384.72   \n",
      "2     1  TRANSFER    181.00  C1305486145         181.00            0.00   \n",
      "3     1  CASH_OUT    181.00   C840083671         181.00            0.00   \n",
      "4     1   PAYMENT  11668.14  C2048537720       41554.00        29885.86   \n",
      "5     1   PAYMENT   7817.71    C90045638       53860.00        46042.29   \n",
      "6     1   PAYMENT   7107.77   C154988899      183195.00       176087.23   \n",
      "7     1   PAYMENT   7861.64  C1912850431      176087.23       168225.59   \n",
      "8     1   PAYMENT   4024.36  C1265012928        2671.00            0.00   \n",
      "9     1     DEBIT   5337.77   C712410124       41720.00        36382.23   \n",
      "\n",
      "      nameDest  oldbalanceDest  newbalanceDest  isFraud  isFlaggedFraud  \n",
      "0  M1979787155             0.0            0.00        0               0  \n",
      "1  M2044282225             0.0            0.00        0               0  \n",
      "2   C553264065             0.0            0.00        1               0  \n",
      "3    C38997010         21182.0            0.00        1               0  \n",
      "4  M1230701703             0.0            0.00        0               0  \n",
      "5   M573487274             0.0            0.00        0               0  \n",
      "6   M408069119             0.0            0.00        0               0  \n",
      "7   M633326333             0.0            0.00        0               0  \n",
      "8  M1176932104             0.0            0.00        0               0  \n",
      "9   C195600860         41898.0        40348.79        0               0  \n"
     ]
    }
   ],
   "source": [
    "print(transactions.head(10))"
   ]
  },
  {
   "cell_type": "code",
   "execution_count": 7,
   "id": "e24852fb",
   "metadata": {},
   "outputs": [
    {
     "name": "stdout",
     "output_type": "stream",
     "text": [
      "<class 'pandas.core.frame.DataFrame'>\n",
      "RangeIndex: 6362620 entries, 0 to 6362619\n",
      "Data columns (total 11 columns):\n",
      " #   Column          Dtype  \n",
      "---  ------          -----  \n",
      " 0   step            int64  \n",
      " 1   type            object \n",
      " 2   amount          float64\n",
      " 3   nameOrig        object \n",
      " 4   oldbalanceOrg   float64\n",
      " 5   newbalanceOrig  float64\n",
      " 6   nameDest        object \n",
      " 7   oldbalanceDest  float64\n",
      " 8   newbalanceDest  float64\n",
      " 9   isFraud         int64  \n",
      " 10  isFlaggedFraud  int64  \n",
      "dtypes: float64(5), int64(3), object(3)\n",
      "memory usage: 534.0+ MB\n",
      "None\n"
     ]
    }
   ],
   "source": [
    "print(transactions.info())"
   ]
  },
  {
   "cell_type": "markdown",
   "id": "6b185292",
   "metadata": {},
   "source": [
    "## Checking number of fraudulent transactions"
   ]
  },
  {
   "cell_type": "code",
   "execution_count": 11,
   "id": "f69c07df",
   "metadata": {},
   "outputs": [
    {
     "name": "stdout",
     "output_type": "stream",
     "text": [
      "6362620\n"
     ]
    }
   ],
   "source": [
    "print(transactions['isFraud'].count())"
   ]
  },
  {
   "cell_type": "code",
   "execution_count": 13,
   "id": "04c5e32b",
   "metadata": {},
   "outputs": [
    {
     "name": "stdout",
     "output_type": "stream",
     "text": [
      "8213\n"
     ]
    }
   ],
   "source": [
    "print(transactions['isFraud'].sum())"
   ]
  },
  {
   "cell_type": "markdown",
   "id": "3e6eb463",
   "metadata": {},
   "source": [
    "So, out of 6362620 we have 8213 fraudulent transactions."
   ]
  },
  {
   "cell_type": "code",
   "execution_count": 10,
   "id": "9c53473d",
   "metadata": {},
   "outputs": [
    {
     "name": "stdout",
     "output_type": "stream",
     "text": [
      "count    6.362620e+06\n",
      "mean     1.798619e+05\n",
      "std      6.038582e+05\n",
      "min      0.000000e+00\n",
      "25%      1.338957e+04\n",
      "50%      7.487194e+04\n",
      "75%      2.087215e+05\n",
      "max      9.244552e+07\n",
      "Name: amount, dtype: float64\n"
     ]
    }
   ],
   "source": [
    "print(transactions['amount'].describe())"
   ]
  },
  {
   "cell_type": "markdown",
   "id": "c9295087",
   "metadata": {},
   "source": [
    "## Feature Engineering "
   ]
  },
  {
   "cell_type": "markdown",
   "id": "cde5fe39",
   "metadata": {},
   "source": [
    "Online fraudulent transactions can happen only in certain mode. Let's first check the type of transactions we have in dataset."
   ]
  },
  {
   "cell_type": "code",
   "execution_count": 16,
   "id": "ed02a0bf",
   "metadata": {},
   "outputs": [
    {
     "name": "stdout",
     "output_type": "stream",
     "text": [
      "['PAYMENT' 'TRANSFER' 'CASH_OUT' 'DEBIT' 'CASH_IN']\n"
     ]
    }
   ],
   "source": [
    "print(transactions['type'].unique())"
   ]
  },
  {
   "cell_type": "markdown",
   "id": "19ac8515",
   "metadata": {},
   "source": [
    "Let's create two features(columns) based on mode of transactions. so, we can eliminate 'CASH_IN' from the analysis."
   ]
  },
  {
   "cell_type": "code",
   "execution_count": 19,
   "id": "e1066dab",
   "metadata": {},
   "outputs": [
    {
     "name": "stderr",
     "output_type": "stream",
     "text": [
      "C:\\Users\\SANATH\\AppData\\Local\\Temp\\ipykernel_21972\\3171102912.py:2: SettingWithCopyWarning: \n",
      "A value is trying to be set on a copy of a slice from a DataFrame\n",
      "\n",
      "See the caveats in the documentation: https://pandas.pydata.org/pandas-docs/stable/user_guide/indexing.html#returning-a-view-versus-a-copy\n",
      "  transactions['isPayment'][transactions['type'].isin(['PAYMENT', 'TRANSFER'])]=1\n"
     ]
    }
   ],
   "source": [
    "transactions['isPayment']=0\n",
    "transactions['isPayment'][transactions['type'].isin(['PAYMENT', 'TRANSFER'])]=1"
   ]
  },
  {
   "cell_type": "code",
   "execution_count": 20,
   "id": "80daa4e8",
   "metadata": {},
   "outputs": [
    {
     "name": "stderr",
     "output_type": "stream",
     "text": [
      "C:\\Users\\SANATH\\AppData\\Local\\Temp\\ipykernel_21972\\4245201043.py:2: SettingWithCopyWarning: \n",
      "A value is trying to be set on a copy of a slice from a DataFrame\n",
      "\n",
      "See the caveats in the documentation: https://pandas.pydata.org/pandas-docs/stable/user_guide/indexing.html#returning-a-view-versus-a-copy\n",
      "  transactions['isMovement'][transactions['type'].isin(['DEBIT', 'CASH_OUT'])]=1\n"
     ]
    }
   ],
   "source": [
    "transactions['isMovement']=0\n",
    "transactions['isMovement'][transactions['type'].isin(['DEBIT', 'CASH_OUT'])]=1"
   ]
  },
  {
   "cell_type": "code",
   "execution_count": 21,
   "id": "1cdb437f",
   "metadata": {},
   "outputs": [
    {
     "name": "stdout",
     "output_type": "stream",
     "text": [
      "   step      type    amount     nameOrig  oldbalanceOrg  newbalanceOrig  \\\n",
      "0     1   PAYMENT   9839.64  C1231006815       170136.0       160296.36   \n",
      "1     1   PAYMENT   1864.28  C1666544295        21249.0        19384.72   \n",
      "2     1  TRANSFER    181.00  C1305486145          181.0            0.00   \n",
      "3     1  CASH_OUT    181.00   C840083671          181.0            0.00   \n",
      "4     1   PAYMENT  11668.14  C2048537720        41554.0        29885.86   \n",
      "\n",
      "      nameDest  oldbalanceDest  newbalanceDest  isFraud  isFlaggedFraud  \\\n",
      "0  M1979787155             0.0             0.0        0               0   \n",
      "1  M2044282225             0.0             0.0        0               0   \n",
      "2   C553264065             0.0             0.0        1               0   \n",
      "3    C38997010         21182.0             0.0        1               0   \n",
      "4  M1230701703             0.0             0.0        0               0   \n",
      "\n",
      "   isPayment  isMovement  \n",
      "0          1           0  \n",
      "1          1           0  \n",
      "2          1           0  \n",
      "3          0           1  \n",
      "4          1           0  \n"
     ]
    }
   ],
   "source": [
    "print(transactions.head())"
   ]
  },
  {
   "cell_type": "markdown",
   "id": "0d6ee130",
   "metadata": {},
   "source": [
    "As most of the fraudulent transaction happens into new or unused bank accounts. Let's check the bank balance difference between the acount where money was debited from, and transfered to."
   ]
  },
  {
   "cell_type": "code",
   "execution_count": 22,
   "id": "67f2fbc5",
   "metadata": {},
   "outputs": [],
   "source": [
    "transactions['accountDiff'] = abs(transactions['oldbalanceOrg']-transactions['oldbalanceDest'])"
   ]
  },
  {
   "cell_type": "markdown",
   "id": "febc5121",
   "metadata": {},
   "source": [
    "## Features and Label for the Model "
   ]
  },
  {
   "cell_type": "code",
   "execution_count": 23,
   "id": "568e8de6",
   "metadata": {},
   "outputs": [],
   "source": [
    "label = transactions['isFraud']\n",
    "features = transactions[['amount', 'isPayment', 'isMovement', 'accountDiff']]"
   ]
  },
  {
   "cell_type": "markdown",
   "id": "0843eee6",
   "metadata": {},
   "source": [
    "## Splitting the dataset "
   ]
  },
  {
   "cell_type": "code",
   "execution_count": 24,
   "id": "85900126",
   "metadata": {},
   "outputs": [],
   "source": [
    "from sklearn.model_selection import train_test_split\n",
    "X_train, X_test, y_train, y_test = train_test_split(features, label, test_size=0.3)"
   ]
  },
  {
   "cell_type": "markdown",
   "id": "450974e4",
   "metadata": {},
   "source": [
    "## Normalizing "
   ]
  },
  {
   "cell_type": "markdown",
   "id": "d7b80bbc",
   "metadata": {},
   "source": [
    "As we are going to employ Logistic Regression model from sklearn, inside which the data regularization is done by default. we need to Normalize the data before using it to train our model. "
   ]
  },
  {
   "cell_type": "markdown",
   "id": "a840314b",
   "metadata": {},
   "source": [
    "We are going to use standradization scaling technique, as Logistic Regression algorithm is sensitive to the scales of features and Standardization doesn't affect the scale of the algorith."
   ]
  },
  {
   "cell_type": "code",
   "execution_count": 25,
   "id": "47eae522",
   "metadata": {},
   "outputs": [],
   "source": [
    "from sklearn.preprocessing import StandardScaler\n",
    "scaler = StandardScaler()\n",
    "X_train = scaler.fit_transform(X_train)\n",
    "X_test = scaler.transform(X_test)"
   ]
  },
  {
   "cell_type": "markdown",
   "id": "c9dbdda5",
   "metadata": {},
   "source": [
    "## Modelling with Logistic Regression. "
   ]
  },
  {
   "cell_type": "code",
   "execution_count": 28,
   "id": "06bd0e93",
   "metadata": {},
   "outputs": [
    {
     "data": {
      "text/plain": [
       "LogisticRegression()"
      ]
     },
     "execution_count": 28,
     "metadata": {},
     "output_type": "execute_result"
    }
   ],
   "source": [
    "from sklearn.linear_model import LogisticRegression\n",
    "\n",
    "model = LogisticRegression()\n",
    "model.fit(X_train, y_train)"
   ]
  },
  {
   "cell_type": "markdown",
   "id": "a94b4ae7",
   "metadata": {},
   "source": [
    "## Evaluating the model "
   ]
  },
  {
   "cell_type": "code",
   "execution_count": 29,
   "id": "adfb078a",
   "metadata": {},
   "outputs": [
    {
     "name": "stdout",
     "output_type": "stream",
     "text": [
      "0.9986865249131422\n"
     ]
    }
   ],
   "source": [
    "print(model.score(X_train, y_train))"
   ]
  },
  {
   "cell_type": "markdown",
   "id": "f2a568b2",
   "metadata": {},
   "source": [
    "99% score..!. Let's check the score our prediction with test data"
   ]
  },
  {
   "cell_type": "code",
   "execution_count": 30,
   "id": "c268f46b",
   "metadata": {},
   "outputs": [
    {
     "name": "stdout",
     "output_type": "stream",
     "text": [
      "0.9986588334155846\n"
     ]
    }
   ],
   "source": [
    "print(model.score(X_test, y_test))"
   ]
  },
  {
   "cell_type": "code",
   "execution_count": 31,
   "id": "e166d1ab",
   "metadata": {},
   "outputs": [
    {
     "name": "stdout",
     "output_type": "stream",
     "text": [
      "[[ 0.24729259  2.88016895  2.9843517  -0.65425114]]\n"
     ]
    }
   ],
   "source": [
    "print(model.coef_)"
   ]
  },
  {
   "cell_type": "markdown",
   "id": "e3b980ea",
   "metadata": {},
   "source": [
    "## Lets use the model to predict a new transaction is fraudulent or not"
   ]
  },
  {
   "cell_type": "code",
   "execution_count": 33,
   "id": "383ea03f",
   "metadata": {},
   "outputs": [],
   "source": [
    "transaction1 = np.array([123456.78, 0.0, 1.0, 54670.1])\n",
    "transaction2 = np.array([98765.43, 1.0, 0.0, 8524.75])\n",
    "transaction3 = np.array([543678.31, 1.0, 0.0, 510025.5])\n",
    "transaction4 = np.array([23456.56, 0.0, 0.0, 11111.01])"
   ]
  },
  {
   "cell_type": "code",
   "execution_count": 34,
   "id": "523a8434",
   "metadata": {},
   "outputs": [],
   "source": [
    "combine_transactions = np.stack((transaction1, transaction2, transaction3, transaction4))"
   ]
  },
  {
   "cell_type": "markdown",
   "id": "f7b443da",
   "metadata": {},
   "source": [
    "## Now Normalize this data "
   ]
  },
  {
   "cell_type": "code",
   "execution_count": 35,
   "id": "bfabc3eb",
   "metadata": {},
   "outputs": [
    {
     "name": "stderr",
     "output_type": "stream",
     "text": [
      "C:\\Users\\SANATH\\anaconda3\\lib\\site-packages\\sklearn\\base.py:450: UserWarning: X does not have valid feature names, but StandardScaler was fitted with feature names\n",
      "  warnings.warn(\n"
     ]
    }
   ],
   "source": [
    "normalized = scaler.transform(combine_transactions)"
   ]
  },
  {
   "cell_type": "markdown",
   "id": "66cde66d",
   "metadata": {},
   "source": [
    "## Result Time.. "
   ]
  },
  {
   "cell_type": "code",
   "execution_count": 37,
   "id": "e0288c1f",
   "metadata": {},
   "outputs": [
    {
     "name": "stdout",
     "output_type": "stream",
     "text": [
      "[0 0 0 0]\n"
     ]
    }
   ],
   "source": [
    "print(model.predict(normalized))"
   ]
  },
  {
   "cell_type": "markdown",
   "id": "6934bf62",
   "metadata": {},
   "source": [
    "Okay. No transaction is assumed fradulent for now..!"
   ]
  },
  {
   "cell_type": "markdown",
   "id": "56331bb3",
   "metadata": {},
   "source": [
    "Hence. we created a predictive model using Logistic Regression to detect fraudulent transactions."
   ]
  }
 ],
 "metadata": {
  "kernelspec": {
   "display_name": "Python 3 (ipykernel)",
   "language": "python",
   "name": "python3"
  },
  "language_info": {
   "codemirror_mode": {
    "name": "ipython",
    "version": 3
   },
   "file_extension": ".py",
   "mimetype": "text/x-python",
   "name": "python",
   "nbconvert_exporter": "python",
   "pygments_lexer": "ipython3",
   "version": "3.9.13"
  }
 },
 "nbformat": 4,
 "nbformat_minor": 5
}
